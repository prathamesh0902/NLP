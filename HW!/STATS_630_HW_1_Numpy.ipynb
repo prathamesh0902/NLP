{
  "cells": [
    {
      "cell_type": "markdown",
      "metadata": {
        "id": "view-in-github",
        "colab_type": "text"
      },
      "source": [
        "<a href=\"https://colab.research.google.com/github/prathamesh0902/STATS_630/blob/main/STATS_630_HW_1_Numpy.ipynb\" target=\"_parent\"><img src=\"https://colab.research.google.com/assets/colab-badge.svg\" alt=\"Open In Colab\"/></a>"
      ]
    },
    {
      "cell_type": "markdown",
      "metadata": {
        "id": "uKfoWSrMVi-V"
      },
      "source": [
        "# Importing and initializing Data"
      ]
    },
    {
      "cell_type": "code",
      "execution_count": null,
      "metadata": {
        "id": "wXsPHdpDUdPT"
      },
      "outputs": [],
      "source": [
        "# from google.colab import drive\n",
        "# drive.mount('/content/drive')"
      ]
    },
    {
      "cell_type": "code",
      "execution_count": null,
      "metadata": {
        "id": "rN0Is97KVDDx"
      },
      "outputs": [],
      "source": [
        "import pandas as pd\n",
        "import numpy as np"
      ]
    },
    {
      "cell_type": "code",
      "execution_count": null,
      "metadata": {
        "id": "IxxdN5lsVE_E"
      },
      "outputs": [],
      "source": [
        "#importing the data sets\n",
        "train = pd.read_csv(\"si630w23-hw1.train.csv\")\n",
        "validation = pd.read_csv(\"si630w23-hw1.dev.csv\")\n",
        "test = pd.read_csv(\"si630w23-hw1.test.csv\")"
      ]
    },
    {
      "cell_type": "code",
      "execution_count": null,
      "metadata": {
        "colab": {
          "base_uri": "https://localhost:8080/",
          "height": 206
        },
        "id": "_4yOhB0QVZHS",
        "outputId": "6bd3f75c-165e-4ce3-8d0d-fa529a0ddb19"
      },
      "outputs": [
        {
          "data": {
            "text/html": [
              "<div>\n",
              "<style scoped>\n",
              "    .dataframe tbody tr th:only-of-type {\n",
              "        vertical-align: middle;\n",
              "    }\n",
              "\n",
              "    .dataframe tbody tr th {\n",
              "        vertical-align: top;\n",
              "    }\n",
              "\n",
              "    .dataframe thead th {\n",
              "        text-align: right;\n",
              "    }\n",
              "</style>\n",
              "<table border=\"1\" class=\"dataframe\">\n",
              "  <thead>\n",
              "    <tr style=\"text-align: right;\">\n",
              "      <th></th>\n",
              "      <th>text</th>\n",
              "      <th>sarcastic</th>\n",
              "    </tr>\n",
              "  </thead>\n",
              "  <tbody>\n",
              "    <tr>\n",
              "      <th>0</th>\n",
              "      <td>The only thing I got from college is a caffein...</td>\n",
              "      <td>1</td>\n",
              "    </tr>\n",
              "    <tr>\n",
              "      <th>1</th>\n",
              "      <td>I love it when professors draw a big question ...</td>\n",
              "      <td>1</td>\n",
              "    </tr>\n",
              "    <tr>\n",
              "      <th>2</th>\n",
              "      <td>Remember the hundred emails from companies whe...</td>\n",
              "      <td>1</td>\n",
              "    </tr>\n",
              "    <tr>\n",
              "      <th>3</th>\n",
              "      <td>Today my pop-pop told me I was not “forced” to...</td>\n",
              "      <td>1</td>\n",
              "    </tr>\n",
              "    <tr>\n",
              "      <th>4</th>\n",
              "      <td>@VolphanCarol @littlewhitty @mysticalmanatee I...</td>\n",
              "      <td>1</td>\n",
              "    </tr>\n",
              "  </tbody>\n",
              "</table>\n",
              "</div>"
            ],
            "text/plain": [
              "                                                text  sarcastic\n",
              "0  The only thing I got from college is a caffein...          1\n",
              "1  I love it when professors draw a big question ...          1\n",
              "2  Remember the hundred emails from companies whe...          1\n",
              "3  Today my pop-pop told me I was not “forced” to...          1\n",
              "4  @VolphanCarol @littlewhitty @mysticalmanatee I...          1"
            ]
          },
          "execution_count": 4,
          "metadata": {},
          "output_type": "execute_result"
        }
      ],
      "source": [
        "train.head()"
      ]
    },
    {
      "cell_type": "code",
      "execution_count": null,
      "metadata": {
        "colab": {
          "base_uri": "https://localhost:8080/"
        },
        "id": "Bmk51ElVvBQt",
        "outputId": "dcb5c6ea-2e5c-4dd2-c84b-5d452c868d9e"
      },
      "outputs": [
        {
          "data": {
            "text/plain": [
              "0    2600\n",
              "1     867\n",
              "Name: sarcastic, dtype: int64"
            ]
          },
          "execution_count": 5,
          "metadata": {},
          "output_type": "execute_result"
        }
      ],
      "source": [
        "train.sarcastic.value_counts()"
      ]
    },
    {
      "cell_type": "code",
      "execution_count": null,
      "metadata": {
        "id": "6Y5OlkDzVZpv"
      },
      "outputs": [],
      "source": [
        "#splitting the data into input and output values\n",
        "X_train, y_train = train['text'].values, train['sarcastic'].values\n",
        "X_val, y_val = validation['text'].values, validation['sarcastic'].values\n",
        "X_test = test['text'].values"
      ]
    },
    {
      "cell_type": "markdown",
      "metadata": {
        "id": "OEiWvPorHuod"
      },
      "source": [
        "Creating a better tokeniser by taking words in lower cases and removing the special characters"
      ]
    },
    {
      "cell_type": "code",
      "execution_count": null,
      "metadata": {
        "id": "bCUtuW9UHBNH"
      },
      "outputs": [],
      "source": [
        "import re"
      ]
    },
    {
      "cell_type": "code",
      "execution_count": null,
      "metadata": {
        "id": "UEYjE20hHKgz"
      },
      "outputs": [],
      "source": [
        "REPLACE_BY_SPACE_RE = re.compile('[/(){}\\[\\]\\|@,;]')\n",
        "BAD_SYMBOLS_RE = re.compile('[^0-9a-z #+_]')\n",
        "\n",
        "def text_prepare(text):\n",
        "    \"\"\"\n",
        "        text: a string\n",
        "        \n",
        "        return: modified initial string\n",
        "    \"\"\"\n",
        "    \n",
        "    text = text.lower() # lowercase text\n",
        "    text = REPLACE_BY_SPACE_RE.sub(' ', text) # replace REPLACE_BY_SPACE_RE symbols by space in text\n",
        "    text = BAD_SYMBOLS_RE.sub('', text) # delete symbols which are in BAD_SYMBOLS_RE from text\n",
        "    \n",
        "    return text"
      ]
    },
    {
      "cell_type": "code",
      "execution_count": null,
      "metadata": {
        "id": "cq6zx2BlHdxg"
      },
      "outputs": [],
      "source": [
        "X_train = [text_prepare(x) for x in X_train]\n",
        "X_val = [text_prepare(x) for x in X_val]\n",
        "X_test = [text_prepare(x) for x in X_test]"
      ]
    },
    {
      "cell_type": "code",
      "execution_count": null,
      "metadata": {
        "id": "qEcm1RTRWBAF"
      },
      "outputs": [],
      "source": [
        "#Making count of words in all the data set\n",
        "words_count = {}\n",
        "\n",
        "for words in X_train:\n",
        "    for word in words.split(\" \"):\n",
        "        if word in words_count:\n",
        "            words_count[word] += 1\n",
        "        else:\n",
        "            words_count[word] = 1"
      ]
    },
    {
      "cell_type": "code",
      "execution_count": null,
      "metadata": {
        "id": "I6tpL_oxWCxs"
      },
      "outputs": [],
      "source": [
        "#words_count"
      ]
    },
    {
      "cell_type": "code",
      "execution_count": null,
      "metadata": {
        "id": "wsqqSxOKWEFu"
      },
      "outputs": [],
      "source": [
        "words_counts = {i:words_count[i] for i in words_count if i!=0 }"
      ]
    },
    {
      "cell_type": "code",
      "execution_count": null,
      "metadata": {
        "id": "nth6YVj4WFyO"
      },
      "outputs": [],
      "source": [
        "words_counts_sorted = sorted(words_counts.items(), key=lambda x:x[1], reverse = True)\n",
        "#print(words_counts_sorted)"
      ]
    },
    {
      "cell_type": "code",
      "execution_count": null,
      "metadata": {
        "id": "jJP-vEKfWGNO"
      },
      "outputs": [],
      "source": [
        "#words_counts"
      ]
    },
    {
      "cell_type": "code",
      "execution_count": null,
      "metadata": {
        "id": "950XmoO9WHTM"
      },
      "outputs": [],
      "source": [
        "#Converting input data into a vector: bag of words\n",
        "DICT_SIZE = 5000\n",
        "WORDS_TO_INDEX = {j[0]:i for i,j in enumerate(sorted(words_counts.items(), key=lambda x: x[1], reverse=True)[:DICT_SIZE])}####### YOUR CODE HERE #######\n",
        "INDEX_TO_WORDS = {i:j[0] for i,j in enumerate(sorted(words_counts.items(), key=lambda x: x[1], reverse=True)[:DICT_SIZE])}####### YOUR CODE HERE #######\n",
        "ALL_WORDS = WORDS_TO_INDEX.keys()\n",
        "\n",
        "def tokenize(text, words_to_index, dict_size):\n",
        "    \"\"\"\n",
        "        text: a string\n",
        "        dict_size: size of the dictionary\n",
        "        \n",
        "        return a vector which is a bag-of-words representation of 'text'\n",
        "    \"\"\"\n",
        "    result_vector = np.zeros(dict_size)\n",
        "    new_key= [words_to_index[i] for i in text.split(\" \") if i in words_to_index.keys()]\n",
        "    result_vector[new_key]=1\n",
        "    return result_vector"
      ]
    },
    {
      "cell_type": "markdown",
      "metadata": {
        "id": "o17sK7UHWOUX"
      },
      "source": [
        "## Transformation into sparse Matirx"
      ]
    },
    {
      "cell_type": "code",
      "execution_count": null,
      "metadata": {
        "id": "0Z2kKrFcWLkZ"
      },
      "outputs": [],
      "source": [
        "from scipy import sparse as sp_sparse"
      ]
    },
    {
      "cell_type": "code",
      "execution_count": null,
      "metadata": {
        "colab": {
          "base_uri": "https://localhost:8080/"
        },
        "id": "0A-Xx5KeWNGp",
        "outputId": "b654a759-c136-4a8c-b999-f61bdcba85ba"
      },
      "outputs": [
        {
          "name": "stdout",
          "output_type": "stream",
          "text": [
            "X_train shape  (3467, 5000)\n",
            "X_val shape  (280, 5000)\n",
            "X_test shape  (1400, 5000)\n"
          ]
        }
      ],
      "source": [
        "#conversion to sparse matrix\n",
        "X_train_mybag = sp_sparse.vstack([sp_sparse.csr_matrix(tokenize(text, WORDS_TO_INDEX, DICT_SIZE)) for text in X_train])\n",
        "X_val_mybag = sp_sparse.vstack([sp_sparse.csr_matrix(tokenize(text, WORDS_TO_INDEX, DICT_SIZE)) for text in X_val])\n",
        "X_test_mybag = sp_sparse.vstack([sp_sparse.csr_matrix(tokenize(text, WORDS_TO_INDEX, DICT_SIZE)) for text in X_test])\n",
        "print('X_train shape ', X_train_mybag.shape)\n",
        "print('X_val shape ', X_val_mybag.shape)\n",
        "print('X_test shape ', X_test_mybag.shape)"
      ]
    },
    {
      "cell_type": "markdown",
      "metadata": {
        "id": "QiTcqH3jWZsL"
      },
      "source": [
        "# Training the model with Logistic regression and SGD method"
      ]
    },
    {
      "cell_type": "code",
      "execution_count": null,
      "metadata": {
        "id": "yU3EuDFZBK06"
      },
      "outputs": [],
      "source": [
        "import pandas as pd\n",
        "import numpy as np\n",
        "import matplotlib.pyplot as plt\n",
        "from sklearn.metrics import f1_score"
      ]
    },
    {
      "cell_type": "code",
      "execution_count": null,
      "metadata": {
        "id": "5WumNFknWcZG"
      },
      "outputs": [],
      "source": [
        "X = X_train_mybag\n",
        "Y = y_train\n",
        "w = np.zeros(5000)\n",
        "#Run from this cell"
      ]
    },
    {
      "cell_type": "code",
      "execution_count": null,
      "metadata": {
        "id": "rIOZN3MiWd13"
      },
      "outputs": [],
      "source": [
        "#model prediction\n",
        "def forward(x):\n",
        "    return (1/(1+ np.exp(- x.dot(w))))"
      ]
    },
    {
      "cell_type": "code",
      "execution_count": null,
      "metadata": {
        "id": "iqvWD06RWiqz"
      },
      "outputs": [],
      "source": [
        "#loss \n",
        "def loss(x, y_true, y_pred):\n",
        "    return((y_true * x.dot(w))-np.log (1+ np.exp(x.dot(w))))"
      ]
    },
    {
      "cell_type": "code",
      "execution_count": null,
      "metadata": {
        "id": "ZLfssZJxWpPu"
      },
      "outputs": [],
      "source": [
        "# gradients\n",
        "def gradient(x, y_true, y_pred):\n",
        "    sigma = forward(x) - y_true\n",
        "    gradient_b = sigma.dot(x)\n",
        "    return gradient_b"
      ]
    },
    {
      "cell_type": "code",
      "execution_count": null,
      "metadata": {
        "id": "tdHZBmWXgf7B"
      },
      "outputs": [],
      "source": [
        "def give_class(y_pred, data_len):\n",
        "  for i in range(data_len):\n",
        "    if (y_pred[i]>0.5):\n",
        "      y_pred[i] = 1\n",
        "    else:\n",
        "      y_pred[i] = 0\n",
        "  return y_pred"
      ]
    },
    {
      "cell_type": "code",
      "execution_count": null,
      "metadata": {
        "id": "ZZRSosnRf062"
      },
      "outputs": [],
      "source": [
        "from sklearn.metrics import f1_score\n",
        "\n",
        "def calc_f1_score(y_true, y_pred, data_len):\n",
        "  y_pred = give_class(y_pred, data_len)\n",
        "  return f1_score(y_true, y_pred)"
      ]
    },
    {
      "cell_type": "code",
      "execution_count": null,
      "metadata": {
        "colab": {
          "base_uri": "https://localhost:8080/"
        },
        "id": "ygwKuyCUWtuF",
        "outputId": "eea80551-600b-474f-ad94-90ebe48e98be"
      },
      "outputs": [
        {
          "name": "stdout",
          "output_type": "stream",
          "text": [
            "epoch: 0 / 20000\n",
            "epoch: 100 / 20000\n",
            "epoch: 200 / 20000\n",
            "epoch: 300 / 20000\n",
            "epoch: 400 / 20000\n",
            "epoch: 500 / 20000\n",
            "epoch: 600 / 20000\n",
            "epoch: 700 / 20000\n",
            "epoch: 800 / 20000\n",
            "epoch: 900 / 20000\n",
            "epoch: 1000 / 20000\n",
            "epoch: 1100 / 20000\n",
            "epoch: 1200 / 20000\n",
            "epoch: 1300 / 20000\n",
            "epoch: 1400 / 20000\n",
            "epoch: 1500 / 20000\n",
            "epoch: 1600 / 20000\n",
            "epoch: 1700 / 20000\n",
            "epoch: 1800 / 20000\n",
            "epoch: 1900 / 20000\n",
            "epoch: 2000 / 20000\n",
            "epoch: 2100 / 20000\n",
            "epoch: 2200 / 20000\n",
            "epoch: 2300 / 20000\n",
            "epoch: 2400 / 20000\n",
            "epoch: 2500 / 20000\n",
            "epoch: 2600 / 20000\n",
            "epoch: 2700 / 20000\n",
            "epoch: 2800 / 20000\n",
            "epoch: 2900 / 20000\n",
            "epoch: 3000 / 20000\n",
            "epoch: 3100 / 20000\n",
            "epoch: 3200 / 20000\n",
            "epoch: 3300 / 20000\n",
            "epoch: 3400 / 20000\n",
            "epoch: 3500 / 20000\n",
            "epoch: 3600 / 20000\n",
            "epoch: 3700 / 20000\n",
            "epoch: 3800 / 20000\n",
            "epoch: 3900 / 20000\n",
            "epoch: 4000 / 20000\n",
            "epoch: 4100 / 20000\n",
            "epoch: 4200 / 20000\n",
            "epoch: 4300 / 20000\n",
            "epoch: 4400 / 20000\n",
            "epoch: 4500 / 20000\n",
            "epoch: 4600 / 20000\n",
            "epoch: 4700 / 20000\n",
            "epoch: 4800 / 20000\n",
            "epoch: 4900 / 20000\n",
            "epoch: 5000 / 20000\n",
            "epoch: 5100 / 20000\n",
            "epoch: 5200 / 20000\n",
            "epoch: 5300 / 20000\n",
            "epoch: 5400 / 20000\n",
            "epoch: 5500 / 20000\n",
            "epoch: 5600 / 20000\n",
            "epoch: 5700 / 20000\n",
            "epoch: 5800 / 20000\n",
            "epoch: 5900 / 20000\n",
            "epoch: 6000 / 20000\n",
            "epoch: 6100 / 20000\n",
            "epoch: 6200 / 20000\n",
            "epoch: 6300 / 20000\n",
            "epoch: 6400 / 20000\n",
            "epoch: 6500 / 20000\n",
            "epoch: 6600 / 20000\n",
            "epoch: 6700 / 20000\n",
            "epoch: 6800 / 20000\n",
            "epoch: 6900 / 20000\n",
            "epoch: 7000 / 20000\n",
            "epoch: 7100 / 20000\n",
            "epoch: 7200 / 20000\n",
            "epoch: 7300 / 20000\n",
            "epoch: 7400 / 20000\n",
            "epoch: 7500 / 20000\n",
            "epoch: 7600 / 20000\n",
            "epoch: 7700 / 20000\n",
            "epoch: 7800 / 20000\n",
            "epoch: 7900 / 20000\n",
            "epoch: 8000 / 20000\n",
            "epoch: 8100 / 20000\n",
            "epoch: 8200 / 20000\n",
            "epoch: 8300 / 20000\n",
            "epoch: 8400 / 20000\n",
            "epoch: 8500 / 20000\n",
            "epoch: 8600 / 20000\n",
            "epoch: 8700 / 20000\n",
            "epoch: 8800 / 20000\n",
            "epoch: 8900 / 20000\n",
            "epoch: 9000 / 20000\n",
            "epoch: 9100 / 20000\n",
            "epoch: 9200 / 20000\n",
            "epoch: 9300 / 20000\n",
            "epoch: 9400 / 20000\n",
            "epoch: 9500 / 20000\n",
            "epoch: 9600 / 20000\n",
            "epoch: 9700 / 20000\n",
            "epoch: 9800 / 20000\n",
            "epoch: 9900 / 20000\n",
            "epoch: 10000 / 20000\n",
            "epoch: 10100 / 20000\n",
            "epoch: 10200 / 20000\n",
            "epoch: 10300 / 20000\n",
            "epoch: 10400 / 20000\n",
            "epoch: 10500 / 20000\n",
            "epoch: 10600 / 20000\n",
            "epoch: 10700 / 20000\n",
            "epoch: 10800 / 20000\n",
            "epoch: 10900 / 20000\n",
            "epoch: 11000 / 20000\n",
            "epoch: 11100 / 20000\n",
            "epoch: 11200 / 20000\n",
            "epoch: 11300 / 20000\n",
            "epoch: 11400 / 20000\n",
            "epoch: 11500 / 20000\n",
            "epoch: 11600 / 20000\n",
            "epoch: 11700 / 20000\n",
            "epoch: 11800 / 20000\n",
            "epoch: 11900 / 20000\n",
            "epoch: 12000 / 20000\n",
            "epoch: 12100 / 20000\n",
            "epoch: 12200 / 20000\n",
            "epoch: 12300 / 20000\n",
            "epoch: 12400 / 20000\n",
            "epoch: 12500 / 20000\n",
            "epoch: 12600 / 20000\n",
            "epoch: 12700 / 20000\n",
            "epoch: 12800 / 20000\n",
            "epoch: 12900 / 20000\n",
            "epoch: 13000 / 20000\n",
            "epoch: 13100 / 20000\n",
            "epoch: 13200 / 20000\n",
            "epoch: 13300 / 20000\n",
            "epoch: 13400 / 20000\n",
            "epoch: 13500 / 20000\n",
            "epoch: 13600 / 20000\n",
            "epoch: 13700 / 20000\n",
            "epoch: 13800 / 20000\n",
            "epoch: 13900 / 20000\n",
            "epoch: 14000 / 20000\n",
            "epoch: 14100 / 20000\n",
            "epoch: 14200 / 20000\n",
            "epoch: 14300 / 20000\n",
            "epoch: 14400 / 20000\n",
            "epoch: 14500 / 20000\n",
            "epoch: 14600 / 20000\n",
            "epoch: 14700 / 20000\n",
            "epoch: 14800 / 20000\n",
            "epoch: 14900 / 20000\n",
            "epoch: 15000 / 20000\n",
            "epoch: 15100 / 20000\n",
            "epoch: 15200 / 20000\n",
            "epoch: 15300 / 20000\n",
            "epoch: 15400 / 20000\n",
            "epoch: 15500 / 20000\n",
            "epoch: 15600 / 20000\n",
            "epoch: 15700 / 20000\n",
            "epoch: 15800 / 20000\n",
            "epoch: 15900 / 20000\n",
            "epoch: 16000 / 20000\n",
            "epoch: 16100 / 20000\n",
            "epoch: 16200 / 20000\n",
            "epoch: 16300 / 20000\n",
            "epoch: 16400 / 20000\n",
            "epoch: 16500 / 20000\n",
            "epoch: 16600 / 20000\n",
            "epoch: 16700 / 20000\n",
            "epoch: 16800 / 20000\n",
            "epoch: 16900 / 20000\n",
            "epoch: 17000 / 20000\n",
            "epoch: 17100 / 20000\n",
            "epoch: 17200 / 20000\n",
            "epoch: 17300 / 20000\n",
            "epoch: 17400 / 20000\n",
            "epoch: 17500 / 20000\n",
            "epoch: 17600 / 20000\n",
            "epoch: 17700 / 20000\n",
            "epoch: 17800 / 20000\n",
            "epoch: 17900 / 20000\n",
            "epoch: 18000 / 20000\n",
            "epoch: 18100 / 20000\n",
            "epoch: 18200 / 20000\n",
            "epoch: 18300 / 20000\n",
            "epoch: 18400 / 20000\n",
            "epoch: 18500 / 20000\n",
            "epoch: 18600 / 20000\n",
            "epoch: 18700 / 20000\n",
            "epoch: 18800 / 20000\n",
            "epoch: 18900 / 20000\n",
            "epoch: 19000 / 20000\n",
            "epoch: 19100 / 20000\n",
            "epoch: 19200 / 20000\n",
            "epoch: 19300 / 20000\n",
            "epoch: 19400 / 20000\n",
            "epoch: 19500 / 20000\n",
            "epoch: 19600 / 20000\n",
            "epoch: 19700 / 20000\n",
            "epoch: 19800 / 20000\n",
            "epoch: 19900 / 20000\n"
          ]
        }
      ],
      "source": [
        "# Training\n",
        "learning_rate = 0.00001\n",
        "epoch_intervals = 100\n",
        "n_iters = 20000\n",
        "data_len = 3467\n",
        "l_agg = np.array([])\n",
        "y_array = np.array([])\n",
        "y_agg = np.array([])\n",
        "f_array = np.array([])\n",
        "f1_scores = 0\n",
        "\n",
        "for epoch in range(n_iters):\n",
        "  l_array = np.array([])\n",
        "  y_array = np.array([])\n",
        "  for line in range(data_len):\n",
        "      y_predicted = forward(X[line])\n",
        "      l = loss(X[line].toarray(), Y[line], y_predicted)\n",
        "      dw = gradient(X[line].toarray(), Y[line], y_predicted)\n",
        "      w -= learning_rate * dw\n",
        "      l_array = np.append(l_array,l)\n",
        "      if (epoch % epoch_intervals == 0):\n",
        "        y_array = np.append(y_array,y_predicted)      \n",
        "  l_mean = l_array.mean()\n",
        "  l_agg = np.append(l_agg,l_mean)\n",
        "  if (epoch % epoch_intervals == 0):\n",
        "    print('epoch:',epoch, '/',n_iters)\n",
        "    f1_scores = calc_f1_score(Y, y_array, data_len)\n",
        "    f_array = np.append(f_array,f1_scores)\n",
        "    y_agg = np.append(y_agg,y_array)"
      ]
    },
    {
      "cell_type": "code",
      "execution_count": null,
      "metadata": {
        "id": "_7Okz4cfNFbP",
        "outputId": "775be748-9324-4831-9986-25c953502557"
      },
      "outputs": [
        {
          "data": {
            "image/png": "[encoded data removed]",
            "text/plain": [
              "<Figure size 640x480 with 1 Axes>"
            ]
          },
          "metadata": {},
          "output_type": "display_data"
        }
      ],
      "source": [
        "_= plt.plot(f_array)"
      ]
    },
    {
      "cell_type": "code",
      "execution_count": null,
      "metadata": {
        "id": "98G2JTvoGkPx",
        "outputId": "6e37fd77-cb24-45cd-d407-2afe7edb6c57"
      },
      "outputs": [
        {
          "data": {
            "image/png": "[encoded data removed]",
            "text/plain": [
              "<Figure size 640x480 with 1 Axes>"
            ]
          },
          "metadata": {},
          "output_type": "display_data"
        }
      ],
      "source": [
        "_= plt.plot(l_agg)"
      ]
    },
    {
      "cell_type": "markdown",
      "metadata": {
        "id": "jb0AVGXxZUT1"
      },
      "source": [
        "# Validating the Data"
      ]
    },
    {
      "cell_type": "code",
      "execution_count": null,
      "metadata": {
        "id": "pVLoBHcxemTP"
      },
      "outputs": [],
      "source": [
        "y_val_output = forward(X_val_mybag)"
      ]
    },
    {
      "cell_type": "code",
      "source": [
        "y_val_class = give_class(y_val_output, 280)"
      ],
      "metadata": {
        "id": "ydU5Ph8W7BpD"
      },
      "execution_count": null,
      "outputs": []
    },
    {
      "cell_type": "code",
      "execution_count": null,
      "metadata": {
        "id": "fXD3LRw5gYSU"
      },
      "outputs": [],
      "source": [
        "y_test_output = forward(X_test_mybag)"
      ]
    },
    {
      "cell_type": "code",
      "execution_count": null,
      "metadata": {
        "id": "YPUwxd116QFM"
      },
      "outputs": [],
      "source": [
        "y_test_class = give_class(y_test_output, 1400)"
      ]
    }
  ],
  "metadata": {
    "colab": {
      "collapsed_sections": [
        "_HkhwidwMc5J",
        "AbpIC2K3Qb47"
      ],
      "provenance": [],
      "include_colab_link": true
    },
    "kernelspec": {
      "display_name": "Python 3 (ipykernel)",
      "language": "python",
      "name": "python3"
    },
    "language_info": {
      "codemirror_mode": {
        "name": "ipython",
        "version": 3
      },
      "file_extension": ".py",
      "mimetype": "text/x-python",
      "name": "python",
      "nbconvert_exporter": "python",
      "pygments_lexer": "ipython3",
      "version": "3.9.13"
    }
  },
  "nbformat": 4,
  "nbformat_minor": 0
}
