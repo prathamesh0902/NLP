{
  "nbformat": 4,
  "nbformat_minor": 0,
  "metadata": {
    "colab": {
      "provenance": [],
      "mount_file_id": "1xk5mF0v73xIT0ziX-vcbA05cP5Wz_7y-",
      "authorship_tag": "ABX9TyPBY5lS6uRp+DrHmtbAqEpA",
      "include_colab_link": true
    },
    "kernelspec": {
      "name": "python3",
      "display_name": "Python 3"
    },
    "language_info": {
      "name": "python"
    }
  },
  "cells": [
    {
      "cell_type": "markdown",
      "metadata": {
        "id": "view-in-github",
        "colab_type": "text"
      },
      "source": [
        "<a href=\"https://colab.research.google.com/github/prathamesh0902/STATS_630/blob/main/STATS_630_Hw_1_Torch.ipynb\" target=\"_parent\"><img src=\"https://colab.research.google.com/assets/colab-badge.svg\" alt=\"Open In Colab\"/></a>"
      ]
    },
    {
      "cell_type": "markdown",
      "source": [
        "# Creating Tensor Sparse matrix"
      ],
      "metadata": {
        "id": "33GJ_rt30Nfk"
      }
    },
    {
      "cell_type": "markdown",
      "source": [
        "##Libraries"
      ],
      "metadata": {
        "id": "m5YGKHHU0Cmo"
      }
    },
    {
      "cell_type": "code",
      "execution_count": 1,
      "metadata": {
        "colab": {
          "base_uri": "https://localhost:8080/",
          "height": 0
        },
        "id": "sWe3eCW3BReE",
        "outputId": "c67b4d76-5f92-4814-9c0a-983842e4a49a"
      },
      "outputs": [
        {
          "output_type": "stream",
          "name": "stdout",
          "text": [
            "1.13.1+cu116\n"
          ]
        }
      ],
      "source": [
        "import torch\n",
        "from torch import nn\n",
        "import pandas as pd\n",
        "import numpy as np\n",
        "import matplotlib.pyplot as plt\n",
        "print(torch.__version__)"
      ]
    },
    {
      "cell_type": "markdown",
      "source": [
        "##Importing Data, creating BOW"
      ],
      "metadata": {
        "id": "aaJJKMGw0sjE"
      }
    },
    {
      "cell_type": "code",
      "source": [
        "from google.colab import drive\n",
        "drive.mount('/content/drive')"
      ],
      "metadata": {
        "colab": {
          "base_uri": "https://localhost:8080/",
          "height": 0
        },
        "id": "9cVscKvJ0LJ2",
        "outputId": "1f3ce959-0b84-4f20-d632-9fbb7f346755"
      },
      "execution_count": 2,
      "outputs": [
        {
          "output_type": "stream",
          "name": "stdout",
          "text": [
            "Drive already mounted at /content/drive; to attempt to forcibly remount, call drive.mount(\"/content/drive\", force_remount=True).\n"
          ]
        }
      ]
    },
    {
      "cell_type": "code",
      "source": [
        "#importing the data sets\n",
        "train = pd.read_csv(\"/content/drive/MyDrive/Data_Files/si630w23-hw1.train.csv\")\n",
        "validation = pd.read_csv(\"/content/drive/MyDrive/Data_Files/si630w23-hw1.dev.csv\")\n",
        "test = pd.read_csv(\"/content/drive/MyDrive/Data_Files/si630w23-hw1.test.csv\")"
      ],
      "metadata": {
        "id": "YUZdCXyF0Tch"
      },
      "execution_count": 3,
      "outputs": []
    },
    {
      "cell_type": "code",
      "source": [
        "#splitting the data into input and output values\n",
        "X_train, y_train = train['text'].values, train['sarcastic'].values\n",
        "X_val, y_val = validation['text'].values, validation['sarcastic'].values\n",
        "X_test = test['text'].values"
      ],
      "metadata": {
        "id": "wsmSINGk0YrS"
      },
      "execution_count": 4,
      "outputs": []
    },
    {
      "cell_type": "code",
      "source": [
        "#Making count of words in all the data set\n",
        "words_count = {}\n",
        "\n",
        "for words in X_train:\n",
        "    for word in words.split(\" \"):\n",
        "        if word in words_count:\n",
        "            words_count[word] += 1\n",
        "        else:\n",
        "            words_count[word] = 1"
      ],
      "metadata": {
        "id": "M3oo942y0bA2"
      },
      "execution_count": 5,
      "outputs": []
    },
    {
      "cell_type": "code",
      "source": [
        "words_counts = {i:words_count[i] for i in words_count if i!=0 }"
      ],
      "metadata": {
        "id": "YOP0f_490eMC"
      },
      "execution_count": 6,
      "outputs": []
    },
    {
      "cell_type": "code",
      "source": [
        "#Converting input data into a vector: bag of words\n",
        "DICT_SIZE = 5000\n",
        "WORDS_TO_INDEX = {j[0]:i for i,j in enumerate(sorted(words_counts.items(), key=lambda x: x[1], reverse=True)[:DICT_SIZE])}####### YOUR CODE HERE #######\n",
        "INDEX_TO_WORDS = {i:j[0] for i,j in enumerate(sorted(words_counts.items(), key=lambda x: x[1], reverse=True)[:DICT_SIZE])}####### YOUR CODE HERE #######\n",
        "ALL_WORDS = WORDS_TO_INDEX.keys()\n",
        "\n",
        "def tokenize(text, words_to_index, dict_size):\n",
        "    \"\"\"\n",
        "        text: a string\n",
        "        dict_size: size of the dictionary\n",
        "        \n",
        "        return a vector which is a bag-of-words representation of 'text'\n",
        "    \"\"\"\n",
        "    result_vector = np.zeros(dict_size)\n",
        "    new_key= [words_to_index[i] for i in text.split(\" \") if i in words_to_index.keys()]\n",
        "    result_vector[new_key]=1\n",
        "    return result_vector"
      ],
      "metadata": {
        "id": "uW4J1zMy0jHv"
      },
      "execution_count": 7,
      "outputs": []
    },
    {
      "cell_type": "markdown",
      "source": [
        "##Conversion to Sparse matrix"
      ],
      "metadata": {
        "id": "jRcWIrQ10nEL"
      }
    },
    {
      "cell_type": "code",
      "source": [
        "from scipy import sparse as sp_sparse\n",
        "import tensorflow as tf"
      ],
      "metadata": {
        "id": "6zZd-dcTDRzn"
      },
      "execution_count": 8,
      "outputs": []
    },
    {
      "cell_type": "code",
      "source": [
        "#conversion to sparse matrix\n",
        "X_train_mybag = sp_sparse.vstack([sp_sparse.csr_matrix(tokenize(text, WORDS_TO_INDEX, DICT_SIZE)) for text in X_train])\n",
        "X_val_mybag = sp_sparse.vstack([sp_sparse.csr_matrix(tokenize(text, WORDS_TO_INDEX, DICT_SIZE)) for text in X_val])\n",
        "X_test_mybag = sp_sparse.vstack([sp_sparse.csr_matrix(tokenize(text, WORDS_TO_INDEX, DICT_SIZE)) for text in X_test])\n",
        "print('X_train shape ', X_train_mybag.shape)\n",
        "print('X_val shape ', X_val_mybag.shape)\n",
        "print('X_test shape ', X_test_mybag.shape)"
      ],
      "metadata": {
        "colab": {
          "base_uri": "https://localhost:8080/",
          "height": 0
        },
        "id": "7m58pEAt0mfK",
        "outputId": "ad8d95f1-dcff-4d0c-d2e9-92ca872cf87c"
      },
      "execution_count": 9,
      "outputs": [
        {
          "output_type": "stream",
          "name": "stdout",
          "text": [
            "X_train shape  (3467, 5000)\n",
            "X_val shape  (280, 5000)\n",
            "X_test shape  (1400, 5000)\n"
          ]
        }
      ]
    },
    {
      "cell_type": "code",
      "source": [
        "def to_sparse_tensor(X):\n",
        "    coo = X.tocoo()\n",
        "    indices = np.mat([coo.row, coo.col]).transpose()\n",
        "    return tf.SparseTensor(indices, coo.data, coo.shape)"
      ],
      "metadata": {
        "id": "wky7IWu42HMg"
      },
      "execution_count": 10,
      "outputs": []
    },
    {
      "cell_type": "code",
      "source": [
        "X_train_sparse =  to_sparse_tensor(X_train_mybag)\n",
        "X_val_sparse =  to_sparse_tensor(X_val_mybag)\n",
        "X_test_sparse =  to_sparse_tensor(X_test_mybag)"
      ],
      "metadata": {
        "id": "y5CUUhiSDvd7"
      },
      "execution_count": 11,
      "outputs": []
    },
    {
      "cell_type": "code",
      "source": [
        "X_train_dense = tf.sparse.to_dense(X_train_sparse).numpy()\n",
        "X_val_dense = tf.sparse.to_dense(X_val_sparse).numpy()\n",
        "X_test_dense = tf.sparse.to_dense(X_test_sparse).numpy()"
      ],
      "metadata": {
        "id": "RE0HSaXWj4Cw"
      },
      "execution_count": 12,
      "outputs": []
    },
    {
      "cell_type": "code",
      "source": [
        "X_train_tensor  = torch.Tensor(X_train_dense)\n",
        "X_val_tensor = torch.Tensor(X_val_dense)\n",
        "X_test_tensor = torch.Tensor(X_test_dense)"
      ],
      "metadata": {
        "id": "DtRJOzgknIkk"
      },
      "execution_count": 13,
      "outputs": []
    },
    {
      "cell_type": "code",
      "source": [
        "y_train_tensor = torch.Tensor(y_train)\n",
        "y_val_tensor = torch.Tensor(y_val)"
      ],
      "metadata": {
        "id": "ApD-xzqhpZq2"
      },
      "execution_count": 14,
      "outputs": []
    },
    {
      "cell_type": "markdown",
      "source": [
        "#Setting up Neural Network"
      ],
      "metadata": {
        "id": "ug_jCOhxI4sH"
      }
    },
    {
      "cell_type": "markdown",
      "source": [
        "## More Libraries"
      ],
      "metadata": {
        "id": "3vz1ldj9TTFf"
      }
    },
    {
      "cell_type": "code",
      "source": [
        "import os\n",
        "import torch.optim as optim #Stochastic grad, Adam\n",
        "from torch.utils.data import DataLoader\n",
        "from torchvision import datasets, transforms\n",
        "import torch.nn.functional as F #relu, tanh"
      ],
      "metadata": {
        "id": "5aikPSRXI5Wh"
      },
      "execution_count": 15,
      "outputs": []
    },
    {
      "cell_type": "code",
      "source": [
        "device = \"cuda\" if torch.cuda.is_available() else \"cpu\"\n",
        "print(f\"Using {device} device\")"
      ],
      "metadata": {
        "colab": {
          "base_uri": "https://localhost:8080/",
          "height": 0
        },
        "id": "ck13eMftJTrO",
        "outputId": "a5d4c9fc-7c27-4ae9-e298-d5cd2fc3781b"
      },
      "execution_count": 16,
      "outputs": [
        {
          "output_type": "stream",
          "name": "stdout",
          "text": [
            "Using cpu device\n"
          ]
        }
      ]
    },
    {
      "cell_type": "code",
      "source": [
        "input_dim = 5000  # size of the beta vector\n",
        "output_dim =  1   # binary classification output\n",
        "learning_rate = 0.001\n",
        "batch_size = 64\n",
        "epochs = 1000000"
      ],
      "metadata": {
        "id": "K7HfplQx90fi"
      },
      "execution_count": 17,
      "outputs": []
    },
    {
      "cell_type": "code",
      "source": [
        "#use train loader to load the data\n",
        "train_loader = DataLoader(dataset = X_train_tensor, batch_size= batch_size, shuffle = True)"
      ],
      "metadata": {
        "id": "Rl6cpqc5Jog6"
      },
      "execution_count": 18,
      "outputs": []
    },
    {
      "cell_type": "markdown",
      "source": [
        "## Training starts"
      ],
      "metadata": {
        "id": "bH7hM76mTXaN"
      }
    },
    {
      "cell_type": "code",
      "source": [
        "class LogisticRegression(nn.Module):\n",
        "    def __init__(self, input_dim, output_dim):\n",
        "        super(LogisticRegression, self).__init__()\n",
        "        #self.flatten = nn.Flatten()\n",
        "        self.linear = nn.Linear(input_dim, output_dim)\n",
        "\n",
        "    def forward(self,x):\n",
        "        #x = self.flatten(x)\n",
        "        outputs = torch.sigmoid(self.linear(x))\n",
        "        return outputs\n"
      ],
      "metadata": {
        "id": "8KnQlOi_nyCd"
      },
      "execution_count": 19,
      "outputs": []
    },
    {
      "cell_type": "code",
      "source": [
        "model = LogisticRegression(input_dim, output_dim) "
      ],
      "metadata": {
        "id": "Jbohkx3HsNdY"
      },
      "execution_count": null,
      "outputs": []
    },
    {
      "cell_type": "code",
      "source": [
        "criterion = nn.BCELoss()   #loss\n",
        "optimizer = torch.optim.SGD(model.parameters(), lr =learning_rate)  #gradient"
      ],
      "metadata": {
        "id": "erjdbgEGsfSg"
      },
      "execution_count": 21,
      "outputs": []
    },
    {
      "cell_type": "code",
      "source": [
        "losses = []\n",
        "losses_test = []\n",
        "Iterations = []\n",
        "iter = 0\n",
        "\n",
        "for epoch in range(epochs):\n",
        "    optimizer.zero_grad()\n",
        "    outputs = model(X_train_tensor)\n",
        "    loss = criterion(torch.squeeze(outputs), y_train_tensor)\n",
        "    loss.backward()\n",
        "    optimizer.step()\n",
        "\n",
        "    iter+=1\n",
        "    if iter%10==0:\n",
        "        with torch.no_grad():\n",
        "            # Calculating the loss and accuracy for the validaton dataset\n",
        "            correct_test = 0\n",
        "            total_test = 0\n",
        "            outputs_test = torch.squeeze(model(X_val_tensor))\n",
        "            loss_test = criterion(outputs_test, y_val_tensor)\n",
        "            \n",
        "            predicted_test = outputs_test.round().detach().numpy()\n",
        "            total_test += y_val_tensor.size(0)\n",
        "            correct_test += np.sum(predicted_test == y_val_tensor.detach().numpy())\n",
        "            accuracy_test = 100 * correct_test/total_test\n",
        "            losses_test.append(loss_test.item())\n",
        "            \n",
        "            # Calculating the loss and accuracy for the train dataset\n",
        "            total = 0\n",
        "            correct = 0\n",
        "            total += y_train_tensor.size(0)\n",
        "            correct += np.sum(torch.squeeze(outputs).round().detach().numpy() == y_train_tensor.detach().numpy())\n",
        "            accuracy = 100 * correct/total\n",
        "            losses.append(loss.item())\n",
        "            Iterations.append(iter)\n",
        "            \n",
        "            #print(f\"Iteration: {iter}. \\nTest - Loss: {loss_test.item()}. Accuracy: {accuracy_test}\")\n",
        "            #print(f\"Train -  Loss: {loss.item()}. Accuracy: {accuracy}\\n\")"
      ],
      "metadata": {
        "id": "YqBFWvtZHMle"
      },
      "execution_count": 22,
      "outputs": []
    },
    {
      "cell_type": "markdown",
      "source": [
        "## Interpretation"
      ],
      "metadata": {
        "id": "gX-J9D08v8w2"
      }
    },
    {
      "cell_type": "code",
      "source": [
        "_= plt.plot(losses, label = \"train\")\n",
        "_= plt.plot(losses_test, label = \"val\")\n",
        "_= plt.legend()\n",
        "#plt.show()"
      ],
      "metadata": {
        "colab": {
          "base_uri": "https://localhost:8080/",
          "height": 265
        },
        "id": "GGpzk7C6s1Bc",
        "outputId": "4e2eba53-5a48-4adb-e3de-1168831d4d1e"
      },
      "execution_count": 46,
      "outputs": [
        {
          "output_type": "display_data",
          "data": {
            "text/plain": [
              "<Figure size 432x288 with 1 Axes>"
            ],
            "image/png": "[encoded data removed]"
          },
          "metadata": {
            "needs_background": "light"
          }
        }
      ]
    },
    {
      "cell_type": "code",
      "source": [
        "_= plt.plot(losses, label = \"train-error\")\n",
        "_= plt.plot(losses_test, label = \"val-error\")\n",
        "_= plt.legend()"
      ],
      "metadata": {
        "colab": {
          "base_uri": "https://localhost:8080/",
          "height": 265
        },
        "id": "LIl3iv1rtJo3",
        "outputId": "cdf7028e-cfa3-435c-ab09-942143b63d19"
      },
      "execution_count": 116,
      "outputs": [
        {
          "output_type": "display_data",
          "data": {
            "text/plain": [
              "<Figure size 432x288 with 1 Axes>"
            ],
            "image/png": "[encoded data removed]"
          },
          "metadata": {
            "needs_background": "light"
          }
        }
      ]
    },
    {
      "cell_type": "markdown",
      "source": [
        "From the plot above we conclude that, though the train error decreases as we increase the number of epochs, the validation error does not show a significant drop after 200,000 epochs (the error being calculated at every 10 epochs)."
      ],
      "metadata": {
        "id": "0KNamYM5rU9t"
      }
    },
    {
      "cell_type": "code",
      "source": [
        "accuracy, accuracy_test"
      ],
      "metadata": {
        "colab": {
          "base_uri": "https://localhost:8080/"
        },
        "id": "COG-hjF67yhH",
        "outputId": "63389b0c-a001-4cb4-f0c9-04ea556fffbb"
      },
      "execution_count": 31,
      "outputs": [
        {
          "output_type": "execute_result",
          "data": {
            "text/plain": [
              "(86.12633400634554, 82.85714285714286)"
            ]
          },
          "metadata": {},
          "execution_count": 31
        }
      ]
    },
    {
      "cell_type": "markdown",
      "source": [
        "# Getting the Test output"
      ],
      "metadata": {
        "id": "z0U5AWVvvE9w"
      }
    },
    {
      "cell_type": "code",
      "source": [
        "#derive output from the obtained model\n",
        "y_test_tensor =model(X_test_tensor)"
      ],
      "metadata": {
        "id": "Mxuv93_f8rWo"
      },
      "execution_count": 53,
      "outputs": []
    },
    {
      "cell_type": "code",
      "source": [
        "#classify the output, change from continuous to binary variable\n",
        "def give_class(y_pred, data_len):\n",
        "  for i in range(data_len):\n",
        "    if (y_pred[i]>0.5):\n",
        "      y_pred[i] = 1\n",
        "    else:\n",
        "      y_pred[i] = 0\n",
        "  return y_pred"
      ],
      "metadata": {
        "id": "WT6OknVEascf"
      },
      "execution_count": 82,
      "outputs": []
    },
    {
      "cell_type": "code",
      "source": [
        "y_test_tensor_class = give_class(y_test_tensor, 1400)"
      ],
      "metadata": {
        "id": "UUfmovi2bD53"
      },
      "execution_count": 84,
      "outputs": []
    },
    {
      "cell_type": "markdown",
      "source": [
        "##Data Storage"
      ],
      "metadata": {
        "id": "2TqvJqA0u0M-"
      }
    },
    {
      "cell_type": "code",
      "source": [
        "losses = np.array(losses)\n",
        "losses_test = np.array(losses_test)\n",
        "iter_num = np.array(Iterations)\n",
        "dataset = pd.DataFrame({'Iterations': iter_num, 'losses_test': list(losses_test), 'losses': list(losses)}, columns=['Iterations', 'losses_test', 'losses'])"
      ],
      "metadata": {
        "id": "BKlf0z_T8HyR"
      },
      "execution_count": 33,
      "outputs": []
    },
    {
      "cell_type": "code",
      "source": [
        "dataset.to_csv(\"torch_output.csv\")"
      ],
      "metadata": {
        "id": "cvn2xW7V9Mvq"
      },
      "execution_count": 36,
      "outputs": []
    },
    {
      "cell_type": "code",
      "source": [
        "ip = pd.DataFrame(X_test_tensor.numpy())\n",
        "op = pd.DataFrame(y_test_tensor)"
      ],
      "metadata": {
        "id": "cyoBvyngEDXW"
      },
      "execution_count": 76,
      "outputs": []
    },
    {
      "cell_type": "code",
      "source": [
        "op.to_csv(\"y_test_tensor.csv\")"
      ],
      "metadata": {
        "id": "qNWm1TLOFNMo"
      },
      "execution_count": 77,
      "outputs": []
    },
    {
      "cell_type": "code",
      "source": [
        "op2 = pd.DataFrame(y_test_tensor_class)\n",
        "op2.to_csv(\"y_test_tensor_class.csv\")"
      ],
      "metadata": {
        "id": "Tp8L3KQYepqQ"
      },
      "execution_count": 85,
      "outputs": []
    },
    {
      "cell_type": "code",
      "source": [
        "from sklearn.metrics import f1_score\n",
        "\n",
        "def calc_f1_score(y_true, y_pred, data_len):\n",
        "  y_pred = give_class(y_pred, data_len)\n",
        "  return f1_score(y_true, y_pred)"
      ],
      "metadata": {
        "id": "hs-fcsELaug6"
      },
      "execution_count": null,
      "outputs": []
    },
    {
      "cell_type": "code",
      "source": [
        "calc_f1_score(y_val, y_val_output, 280)"
      ],
      "metadata": {
        "id": "OTiMnw_YbBiu"
      },
      "execution_count": null,
      "outputs": []
    },
    {
      "cell_type": "code",
      "source": [
        "import numpy\n",
        "op3 = y_test_tensor_class.detach().numpy()"
      ],
      "metadata": {
        "id": "ZQsqQFbBeciM"
      },
      "execution_count": 90,
      "outputs": []
    },
    {
      "cell_type": "code",
      "source": [
        "a = np.arange(1400)"
      ],
      "metadata": {
        "id": "Qk5trM4UfzU1"
      },
      "execution_count": 99,
      "outputs": []
    },
    {
      "cell_type": "code",
      "source": [
        "a"
      ],
      "metadata": {
        "colab": {
          "base_uri": "https://localhost:8080/"
        },
        "id": "_pJO3ddFgBHY",
        "outputId": "a94095ea-ac57-41d9-fae6-ac4044c367ba"
      },
      "execution_count": 100,
      "outputs": [
        {
          "output_type": "execute_result",
          "data": {
            "text/plain": [
              "array([   0,    1,    2, ..., 1397, 1398, 1399])"
            ]
          },
          "metadata": {},
          "execution_count": 100
        }
      ]
    },
    {
      "cell_type": "code",
      "source": [
        "op4 = pd.DataFrame({'Iterations': a, 'y_test_tensor_class': list(op3)}, columns=['Iterations','y_test_tensor_class'])\n",
        "op4.to_csv(\"torch_output2.csv\")"
      ],
      "metadata": {
        "id": "NruxXdryfF3a"
      },
      "execution_count": 102,
      "outputs": []
    },
    {
      "cell_type": "markdown",
      "source": [
        "## References"
      ],
      "metadata": {
        "id": "PLGt48u-vv6Q"
      }
    },
    {
      "cell_type": "markdown",
      "source": [
        "https://towardsdatascience.com/logistic-regression-with-pytorch-3c8bbea594be\n"
      ],
      "metadata": {
        "id": "wTK9D3zNtDy2"
      }
    }
  ]
}
