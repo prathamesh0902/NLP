{
  "nbformat": 4,
  "nbformat_minor": 0,
  "metadata": {
    "colab": {
      "provenance": [],
      "mount_file_id": "1xk5mF0v73xIT0ziX-vcbA05cP5Wz_7y-",
      "authorship_tag": "ABX9TyNmuSFrKASUW920KjX3UAOJ",
      "include_colab_link": true
    },
    "kernelspec": {
      "name": "python3",
      "display_name": "Python 3"
    },
    "language_info": {
      "name": "python"
    }
  },
  "cells": [
    {
      "cell_type": "markdown",
      "metadata": {
        "id": "view-in-github",
        "colab_type": "text"
      },
      "source": [
        "<a href=\"https://colab.research.google.com/github/prathamesh0902/STATS_630/blob/main/STATS_630_Hw_1_Torch.ipynb\" target=\"_parent\"><img src=\"https://colab.research.google.com/assets/colab-badge.svg\" alt=\"Open In Colab\"/></a>"
      ]
    },
    {
      "cell_type": "markdown",
      "source": [
        "##Libraries"
      ],
      "metadata": {
        "id": "m5YGKHHU0Cmo"
      }
    },
    {
      "cell_type": "code",
      "execution_count": 1,
      "metadata": {
        "colab": {
          "base_uri": "https://localhost:8080/",
          "height": 0
        },
        "id": "sWe3eCW3BReE",
        "outputId": "c67b4d76-5f92-4814-9c0a-983842e4a49a"
      },
      "outputs": [
        {
          "output_type": "stream",
          "name": "stdout",
          "text": [
            "1.13.1+cu116\n"
          ]
        }
      ],
      "source": [
        "import torch\n",
        "from torch import nn\n",
        "import pandas as pd\n",
        "import numpy as np\n",
        "import matplotlib.pyplot as plt\n",
        "print(torch.__version__)"
      ]
    },
    {
      "cell_type": "markdown",
      "source": [
        "# Creating Tensor Sparse matrix"
      ],
      "metadata": {
        "id": "33GJ_rt30Nfk"
      }
    },
    {
      "cell_type": "markdown",
      "source": [
        "##Importing Data, creating BOW"
      ],
      "metadata": {
        "id": "aaJJKMGw0sjE"
      }
    },
    {
      "cell_type": "code",
      "source": [
        "from google.colab import drive\n",
        "drive.mount('/content/drive')"
      ],
      "metadata": {
        "colab": {
          "base_uri": "https://localhost:8080/",
          "height": 0
        },
        "id": "9cVscKvJ0LJ2",
        "outputId": "1f3ce959-0b84-4f20-d632-9fbb7f346755"
      },
      "execution_count": 2,
      "outputs": [
        {
          "output_type": "stream",
          "name": "stdout",
          "text": [
            "Drive already mounted at /content/drive; to attempt to forcibly remount, call drive.mount(\"/content/drive\", force_remount=True).\n"
          ]
        }
      ]
    },
    {
      "cell_type": "code",
      "source": [
        "#importing the data sets\n",
        "train = pd.read_csv(\"/content/drive/MyDrive/Data_Files/si630w23-hw1.train.csv\")\n",
        "validation = pd.read_csv(\"/content/drive/MyDrive/Data_Files/si630w23-hw1.dev.csv\")\n",
        "test = pd.read_csv(\"/content/drive/MyDrive/Data_Files/si630w23-hw1.test.csv\")"
      ],
      "metadata": {
        "id": "YUZdCXyF0Tch"
      },
      "execution_count": 3,
      "outputs": []
    },
    {
      "cell_type": "code",
      "source": [
        "#splitting the data into input and output values\n",
        "X_train, y_train = train['text'].values, train['sarcastic'].values\n",
        "X_val, y_val = validation['text'].values, validation['sarcastic'].values\n",
        "X_test = test['text'].values"
      ],
      "metadata": {
        "id": "wsmSINGk0YrS"
      },
      "execution_count": 4,
      "outputs": []
    },
    {
      "cell_type": "code",
      "source": [
        "#Making count of words in all the data set\n",
        "words_count = {}\n",
        "\n",
        "for words in X_train:\n",
        "    for word in words.split(\" \"):\n",
        "        if word in words_count:\n",
        "            words_count[word] += 1\n",
        "        else:\n",
        "            words_count[word] = 1"
      ],
      "metadata": {
        "id": "M3oo942y0bA2"
      },
      "execution_count": 5,
      "outputs": []
    },
    {
      "cell_type": "code",
      "source": [
        "words_counts = {i:words_count[i] for i in words_count if i!=0 }"
      ],
      "metadata": {
        "id": "YOP0f_490eMC"
      },
      "execution_count": 6,
      "outputs": []
    },
    {
      "cell_type": "code",
      "source": [
        "#Converting input data into a vector: bag of words\n",
        "DICT_SIZE = 5000\n",
        "WORDS_TO_INDEX = {j[0]:i for i,j in enumerate(sorted(words_counts.items(), key=lambda x: x[1], reverse=True)[:DICT_SIZE])}####### YOUR CODE HERE #######\n",
        "INDEX_TO_WORDS = {i:j[0] for i,j in enumerate(sorted(words_counts.items(), key=lambda x: x[1], reverse=True)[:DICT_SIZE])}####### YOUR CODE HERE #######\n",
        "ALL_WORDS = WORDS_TO_INDEX.keys()\n",
        "\n",
        "def tokenize(text, words_to_index, dict_size):\n",
        "    \"\"\"\n",
        "        text: a string\n",
        "        dict_size: size of the dictionary\n",
        "        \n",
        "        return a vector which is a bag-of-words representation of 'text'\n",
        "    \"\"\"\n",
        "    result_vector = np.zeros(dict_size)\n",
        "    new_key= [words_to_index[i] for i in text.split(\" \") if i in words_to_index.keys()]\n",
        "    result_vector[new_key]=1\n",
        "    return result_vector"
      ],
      "metadata": {
        "id": "uW4J1zMy0jHv"
      },
      "execution_count": 7,
      "outputs": []
    },
    {
      "cell_type": "markdown",
      "source": [
        "##Conversion to sparse matrix"
      ],
      "metadata": {
        "id": "jRcWIrQ10nEL"
      }
    },
    {
      "cell_type": "code",
      "source": [
        "from scipy import sparse as sp_sparse\n",
        "import tensorflow as tf"
      ],
      "metadata": {
        "id": "6zZd-dcTDRzn"
      },
      "execution_count": 8,
      "outputs": []
    },
    {
      "cell_type": "code",
      "source": [
        "#conversion to sparse matrix\n",
        "X_train_mybag = sp_sparse.vstack([sp_sparse.csr_matrix(tokenize(text, WORDS_TO_INDEX, DICT_SIZE)) for text in X_train])\n",
        "X_val_mybag = sp_sparse.vstack([sp_sparse.csr_matrix(tokenize(text, WORDS_TO_INDEX, DICT_SIZE)) for text in X_val])\n",
        "X_test_mybag = sp_sparse.vstack([sp_sparse.csr_matrix(tokenize(text, WORDS_TO_INDEX, DICT_SIZE)) for text in X_test])\n",
        "print('X_train shape ', X_train_mybag.shape)\n",
        "print('X_val shape ', X_val_mybag.shape)\n",
        "print('X_test shape ', X_test_mybag.shape)"
      ],
      "metadata": {
        "colab": {
          "base_uri": "https://localhost:8080/",
          "height": 0
        },
        "id": "7m58pEAt0mfK",
        "outputId": "ad8d95f1-dcff-4d0c-d2e9-92ca872cf87c"
      },
      "execution_count": 9,
      "outputs": [
        {
          "output_type": "stream",
          "name": "stdout",
          "text": [
            "X_train shape  (3467, 5000)\n",
            "X_val shape  (280, 5000)\n",
            "X_test shape  (1400, 5000)\n"
          ]
        }
      ]
    },
    {
      "cell_type": "code",
      "source": [
        "def to_sparse_tensor(X):\n",
        "    coo = X.tocoo()\n",
        "    indices = np.mat([coo.row, coo.col]).transpose()\n",
        "    return tf.SparseTensor(indices, coo.data, coo.shape)"
      ],
      "metadata": {
        "id": "wky7IWu42HMg"
      },
      "execution_count": 10,
      "outputs": []
    },
    {
      "cell_type": "code",
      "source": [
        "X_train_sparse =  to_sparse_tensor(X_train_mybag)\n",
        "X_val_sparse =  to_sparse_tensor(X_val_mybag)\n",
        "X_test_sparse =  to_sparse_tensor(X_test_mybag)"
      ],
      "metadata": {
        "id": "y5CUUhiSDvd7"
      },
      "execution_count": 11,
      "outputs": []
    },
    {
      "cell_type": "code",
      "source": [
        "X_train_dense = tf.sparse.to_dense(X_train_sparse).numpy()\n",
        "X_val_dense = tf.sparse.to_dense(X_val_sparse).numpy()\n",
        "X_test_dense = tf.sparse.to_dense(X_test_sparse).numpy()"
      ],
      "metadata": {
        "id": "RE0HSaXWj4Cw"
      },
      "execution_count": 12,
      "outputs": []
    },
    {
      "cell_type": "code",
      "source": [
        "X_train_tensor  = torch.Tensor(X_train_dense)\n",
        "X_val_tensor = torch.Tensor(X_val_dense)\n",
        "X_test_tensor = torch.Tensor(X_test_dense)"
      ],
      "metadata": {
        "id": "DtRJOzgknIkk"
      },
      "execution_count": 13,
      "outputs": []
    },
    {
      "cell_type": "code",
      "source": [
        "y_train_tensor = torch.Tensor(y_train)\n",
        "y_val_tensor = torch.Tensor(y_val) #tf.convert_to_tensor(y_val)"
      ],
      "metadata": {
        "id": "ApD-xzqhpZq2"
      },
      "execution_count": 14,
      "outputs": []
    },
    {
      "cell_type": "markdown",
      "source": [
        "#Setting up Neural Network"
      ],
      "metadata": {
        "id": "ug_jCOhxI4sH"
      }
    },
    {
      "cell_type": "markdown",
      "source": [
        "## More Libraries"
      ],
      "metadata": {
        "id": "3vz1ldj9TTFf"
      }
    },
    {
      "cell_type": "code",
      "source": [
        "import os\n",
        "import torch.optim as optim #Stochastic grad, Adam\n",
        "from torch.utils.data import DataLoader\n",
        "from torchvision import datasets, transforms\n",
        "import torch.nn.functional as F #relu, tanh"
      ],
      "metadata": {
        "id": "5aikPSRXI5Wh"
      },
      "execution_count": 15,
      "outputs": []
    },
    {
      "cell_type": "code",
      "source": [
        "device = \"cuda\" if torch.cuda.is_available() else \"cpu\"\n",
        "print(f\"Using {device} device\")"
      ],
      "metadata": {
        "colab": {
          "base_uri": "https://localhost:8080/",
          "height": 0
        },
        "id": "ck13eMftJTrO",
        "outputId": "a5d4c9fc-7c27-4ae9-e298-d5cd2fc3781b"
      },
      "execution_count": 16,
      "outputs": [
        {
          "output_type": "stream",
          "name": "stdout",
          "text": [
            "Using cpu device\n"
          ]
        }
      ]
    },
    {
      "cell_type": "code",
      "source": [
        "input_dim = 5000  # 28 * 28 images\n",
        "output_dim =  1\n",
        "learning_rate = 0.001\n",
        "batch_size = 64\n",
        "epochs = 1000000"
      ],
      "metadata": {
        "id": "K7HfplQx90fi"
      },
      "execution_count": 17,
      "outputs": []
    },
    {
      "cell_type": "code",
      "source": [
        "#train_dataset = datasets.MNIST(root = 'dataset/', train = True, transform = transforms.ToTensor(), download = True)\n",
        "train_loader = DataLoader(dataset = X_train_tensor, batch_size= batch_size, shuffle = True)"
      ],
      "metadata": {
        "id": "Rl6cpqc5Jog6"
      },
      "execution_count": 18,
      "outputs": []
    },
    {
      "cell_type": "markdown",
      "source": [
        "## Training starts"
      ],
      "metadata": {
        "id": "bH7hM76mTXaN"
      }
    },
    {
      "cell_type": "code",
      "source": [
        "class LogisticRegression(nn.Module):\n",
        "    def __init__(self, input_dim, output_dim):\n",
        "        super(LogisticRegression, self).__init__()\n",
        "        #self.flatten = nn.Flatten()\n",
        "        self.linear = nn.Linear(input_dim, output_dim)\n",
        "        print('linear',self.linear.weight.dtype)\n",
        "\n",
        "    def forward(self,x):\n",
        "        #x = self.flatten(x)\n",
        "        outputs = torch.sigmoid(self.linear(x))\n",
        "        return outputs\n"
      ],
      "metadata": {
        "id": "8KnQlOi_nyCd"
      },
      "execution_count": 19,
      "outputs": []
    },
    {
      "cell_type": "markdown",
      "source": [
        "https://towardsdatascience.com/logistic-regression-with-pytorch-3c8bbea594be\n"
      ],
      "metadata": {
        "id": "wTK9D3zNtDy2"
      }
    },
    {
      "cell_type": "code",
      "source": [
        "model = LogisticRegression(input_dim, output_dim) #.to(device)"
      ],
      "metadata": {
        "id": "Jbohkx3HsNdY",
        "colab": {
          "base_uri": "https://localhost:8080/",
          "height": 0
        },
        "outputId": "54e2c95d-d686-419e-bdc3-9144576ad589"
      },
      "execution_count": 20,
      "outputs": [
        {
          "output_type": "stream",
          "name": "stdout",
          "text": [
            "linear torch.float32\n"
          ]
        }
      ]
    },
    {
      "cell_type": "code",
      "source": [
        "criterion = nn.BCELoss()   #loss\n",
        "optimizer = torch.optim.SGD(model.parameters(), lr =learning_rate)  #grad"
      ],
      "metadata": {
        "id": "erjdbgEGsfSg"
      },
      "execution_count": 21,
      "outputs": []
    },
    {
      "cell_type": "code",
      "source": [
        "losses = []\n",
        "losses_test = []\n",
        "Iterations = []\n",
        "iter = 0\n",
        "\n",
        "for epoch in range(epochs):\n",
        "    optimizer.zero_grad()\n",
        "    outputs = model(X_train_tensor)\n",
        "    loss = criterion(torch.squeeze(outputs), y_train_tensor)\n",
        "    loss.backward()\n",
        "    optimizer.step()\n",
        "\n",
        "    iter+=1\n",
        "    if iter%10==0:\n",
        "        with torch.no_grad():\n",
        "            # Calculating the loss and accuracy for the test dataset\n",
        "            correct_test = 0\n",
        "            total_test = 0\n",
        "            outputs_test = torch.squeeze(model(X_val_tensor))\n",
        "            loss_test = criterion(outputs_test, y_val_tensor)\n",
        "            \n",
        "            predicted_test = outputs_test.round().detach().numpy()\n",
        "            total_test += y_val_tensor.size(0)\n",
        "            correct_test += np.sum(predicted_test == y_val_tensor.detach().numpy())\n",
        "            accuracy_test = 100 * correct_test/total_test\n",
        "            losses_test.append(loss_test.item())\n",
        "            \n",
        "            # Calculating the loss and accuracy for the train dataset\n",
        "            total = 0\n",
        "            correct = 0\n",
        "            total += y_train_tensor.size(0)\n",
        "            correct += np.sum(torch.squeeze(outputs).round().detach().numpy() == y_train_tensor.detach().numpy())\n",
        "            accuracy = 100 * correct/total\n",
        "            losses.append(loss.item())\n",
        "            Iterations.append(iter)\n",
        "            \n",
        "            #print(f\"Iteration: {iter}. \\nTest - Loss: {loss_test.item()}. Accuracy: {accuracy_test}\")\n",
        "            #print(f\"Train -  Loss: {loss.item()}. Accuracy: {accuracy}\\n\")"
      ],
      "metadata": {
        "id": "YqBFWvtZHMle"
      },
      "execution_count": 22,
      "outputs": []
    },
    {
      "cell_type": "code",
      "source": [
        "_= plt.plot(losses)\n",
        "_= plt.plot(losses_test)"
      ],
      "metadata": {
        "colab": {
          "base_uri": "https://localhost:8080/",
          "height": 265
        },
        "id": "GGpzk7C6s1Bc",
        "outputId": "ccfbb1a8-46ec-432f-81c5-9cb4a072d8ee"
      },
      "execution_count": 23,
      "outputs": [
        {
          "output_type": "display_data",
          "data": {
            "text/plain": [
              "<Figure size 432x288 with 1 Axes>"
            ],
            "image/png": "[encoded data removed]"
          },
          "metadata": {
            "needs_background": "light"
          }
        }
      ]
    },
    {
      "cell_type": "markdown",
      "source": [
        "\n",
        "\n",
        "```\n",
        "for batch_idx, data in enumerate(train_loader):\n",
        "        data = data.to(torch.float32)\n",
        "        data = data.to(device = device)\n",
        "        targets = y_train_tensor.to(torch.float32)\n",
        "        targets = targets.to(device = device)\n",
        "        print('x.dtype ',data.dtype )\n",
        "        #Flatten\n",
        "        #data = data.reshape(data.shape[0], -1)\n",
        "\n",
        "        #Forward\n",
        "        scores = model(data)\n",
        "        print('scores ',scores.dtype )\n",
        "        print('targets ',targets.dtype )\n",
        "        loss = criterion(scores, targets)\n",
        "\n",
        "        optimizer.zero_grad()\n",
        "        loss.backward()\n",
        "\n",
        "        optimizer.step() \n",
        "        _= ''''''\n",
        "```\n",
        "\n"
      ],
      "metadata": {
        "id": "ZPCx_AcbWNZa"
      }
    },
    {
      "cell_type": "code",
      "source": [
        "_ = '''def training_not_woring3():\n",
        "  class NeuralNetwork(nn.Module):\n",
        "      def __init__(self):\n",
        "          super(NeuralNetwork, self).__init__()\n",
        "          self.flatten = nn.Flatten()\n",
        "          self.linear_relu_stack = nn.Sequential(\n",
        "              nn.Linear(28*28, 512),\n",
        "              nn.ReLU(),\n",
        "              nn.Linear(512, 512),\n",
        "              nn.ReLU(),\n",
        "              nn.Linear(512, 10),\n",
        "          )\n",
        "\n",
        "      def forward(self, x):\n",
        "          x = self.flatten(x)\n",
        "          logits = self.linear_relu_stack(x)\n",
        "          return logits\n",
        "\n",
        "      def backward(self, input):\n",
        "          output = my_function(input, self.parameters) # here you call the function!\n",
        "          return output'''"
      ],
      "metadata": {
        "id": "U6AFjnTXJlEq"
      },
      "execution_count": 24,
      "outputs": []
    }
  ]
}